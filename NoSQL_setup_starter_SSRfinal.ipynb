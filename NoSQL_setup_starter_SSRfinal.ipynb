{
 "cells": [
  {
   "cell_type": "markdown",
   "id": "9a57c4c6",
   "metadata": {},
   "source": [
    "# Eat Safe, Love"
   ]
  },
  {
   "cell_type": "markdown",
   "id": "064ef857",
   "metadata": {},
   "source": [
    "## Part 1: Database and Jupyter Notebook Set Up"
   ]
  },
  {
   "cell_type": "markdown",
   "id": "664e3c1f",
   "metadata": {},
   "source": [
    "Import the data provided in the `establishments.json` file from your Terminal. Name the database `uk_food` and the collection `establishments`.\n",
    "\n",
    "Within this markdown cell, copy the line of text you used to import the data from your Terminal. This way, future analysts will be able to repeat your process.\n",
    "\n",
    "e.g.: Import the dataset with `mongoimport --db uk_food --collection establishments --file establishments.json --jsonArray'\n"
   ]
  },
  {
   "cell_type": "code",
   "execution_count": 1,
   "id": "3ecdd008",
   "metadata": {},
   "outputs": [],
   "source": [
    "# Import dependencies\n",
    "from pymongo import MongoClient\n",
    "from pprint import pprint"
   ]
  },
  {
   "cell_type": "code",
   "execution_count": 2,
   "id": "59390c4a",
   "metadata": {},
   "outputs": [],
   "source": [
    "# Create an instance of MongoClient\n",
    "mongo = MongoClient(port=27017)"
   ]
  },
  {
   "cell_type": "code",
   "execution_count": 4,
   "id": "7f9ececa",
   "metadata": {},
   "outputs": [
    {
     "name": "stdout",
     "output_type": "stream",
     "text": [
      "['admin', 'classDB', 'config', 'local', 'petsitly_marketing', 'travel_db', 'uk_food']\n"
     ]
    }
   ],
   "source": [
    "# confirm that our new database was created\n",
    "print(mongo.list_database_names())"
   ]
  },
  {
   "cell_type": "code",
   "execution_count": 5,
   "id": "71e373c1",
   "metadata": {},
   "outputs": [],
   "source": [
    "# assign the uk_food database to a variable name\n",
    "db = mongo['uk_food']"
   ]
  },
  {
   "cell_type": "code",
   "execution_count": 6,
   "id": "ef1b89ed",
   "metadata": {},
   "outputs": [
    {
     "name": "stdout",
     "output_type": "stream",
     "text": [
      "['establishments']\n"
     ]
    }
   ],
   "source": [
    "# review the collections in our new database\n",
    "print(db.list_collection_names())"
   ]
  },
  {
   "cell_type": "code",
   "execution_count": 8,
   "id": "6a0d92df",
   "metadata": {},
   "outputs": [],
   "source": [
    "# review a document in the establishments collection\n",
    "establishments = db['establishments']"
   ]
  },
  {
   "cell_type": "code",
   "execution_count": 9,
   "id": "11c9f11b",
   "metadata": {},
   "outputs": [
    {
     "name": "stdout",
     "output_type": "stream",
     "text": [
      "{'AddressLine1': 'The Bay',\n",
      " 'AddressLine2': 'St Margarets Bay',\n",
      " 'AddressLine3': 'Kent',\n",
      " 'AddressLine4': '',\n",
      " 'BusinessName': 'The Coastguard Inn',\n",
      " 'BusinessType': 'Pub/bar/nightclub',\n",
      " 'BusinessTypeID': 7843,\n",
      " 'ChangesByServerID': 0,\n",
      " 'Distance': 4587.347174863443,\n",
      " 'FHRSID': 1034540,\n",
      " 'LocalAuthorityBusinessID': 'PI/000078691',\n",
      " 'LocalAuthorityCode': '182',\n",
      " 'LocalAuthorityEmailAddress': 'publicprotection@dover.gov.uk',\n",
      " 'LocalAuthorityName': 'Dover',\n",
      " 'LocalAuthorityWebSite': 'http://www.dover.gov.uk/',\n",
      " 'NewRatingPending': False,\n",
      " 'Phone': '',\n",
      " 'PostCode': 'CT15 6DY',\n",
      " 'RatingDate': '2022-08-17T00:00:00',\n",
      " 'RatingKey': 'fhrs_5_en-gb',\n",
      " 'RatingValue': '5',\n",
      " 'RightToReply': '',\n",
      " 'SchemeType': 'FHRS',\n",
      " '_id': ObjectId('65f9ee00ed04031dc9fbad2c'),\n",
      " 'geocode': {'latitude': '51.152225', 'longitude': '1.387974'},\n",
      " 'links': [{'href': 'https://api.ratings.food.gov.uk/establishments/1034540',\n",
      "            'rel': 'self'}],\n",
      " 'meta': {'dataSource': None,\n",
      "          'extractDate': '0001-01-01T00:00:00',\n",
      "          'itemCount': 0,\n",
      "          'pageNumber': 0,\n",
      "          'pageSize': 0,\n",
      "          'returncode': None,\n",
      "          'totalCount': 0,\n",
      "          'totalPages': 0},\n",
      " 'scores': {'ConfidenceInManagement': 0, 'Hygiene': 0, 'Structural': 5}}\n"
     ]
    }
   ],
   "source": [
    "# assign the collection to a variable\n",
    "establishments = db['establishments']\n",
    "document = establishments.find_one()\n",
    "pprint(document)"
   ]
  },
  {
   "cell_type": "markdown",
   "id": "d5671434",
   "metadata": {},
   "source": [
    "## Part 2: Update the Database"
   ]
  },
  {
   "cell_type": "markdown",
   "id": "314bd884",
   "metadata": {},
   "source": [
    "1. An exciting new halal restaurant just opened in Greenwich, but hasn't been rated yet. The magazine has asked you to include it in your analysis. Add the following restaurant \"Penang Flavours\" to the database."
   ]
  },
  {
   "cell_type": "code",
   "execution_count": null,
   "id": "c2da7648",
   "metadata": {},
   "outputs": [],
   "source": [
    "# Create a dictionary for the new restaurant data\n",
    "new_restaurant = {}"
   ]
  },
  {
   "cell_type": "code",
   "execution_count": null,
   "id": "a6e5cece",
   "metadata": {},
   "outputs": [],
   "source": [
    "# Was completed in Terminal Insert the new restaurant into the collection\n",
    "uk_food> db.establishments.insertOne({\n",
    "...     \"BusinessName\": \"Penang Flavours\",\n",
    "...     \"BusinessType\": \"Restaurant/Cafe/Canteen\",\n",
    "...     \"BusinessTypeID\": \"\",\n",
    "...     \"AddressLine1\": \"Penang Flavours\",\n",
    "...     \"AddressLine2\": \"146A Plumstead Rd\",\n",
    "...     \"AddressLine3\": \"London\",\n",
    "...     \"AddressLine4\": \"\",\n",
    "...     \"PostCode\": \"SE18 7DY\",\n",
    "...     \"Phone\": \"\",\n",
    "...     \"LocalAuthorityCode\": \"511\",\n",
    "...     \"LocalAuthorityName\": \"Greenwich\",\n",
    "...     \"LocalAuthorityWebSite\": \"http://www.royalgreenwich.gov.uk\",\n",
    "...     \"LocalAuthorityEmailAddress\": \"health@royalgreenwich.gov.uk\",\n",
    "...     \"scores\": {\n",
    "...         \"Hygiene\": \"\",\n",
    "...         \"Structural\": \"\",\n",
    "...         \"ConfidenceInManagement\": \"\"\n",
    "...     },\n",
    "...     \"SchemeType\": \"FHRS\",\n",
    "...     \"geocode\": {\n",
    "...         \"longitude\": \"0.08384000\",\n",
    "...         \"latitude\": \"51.49014200\"\n",
    "...     },\n",
    "...     \"RightToReply\": \"\",\n",
    "...     \"Distance\": 4623.9723280747176,\n",
    "...     \"NewRatingPending\": true\n",
    "... })\n",
    "{\n",
    "  acknowledged: true,\n",
    "  insertedId: ObjectId('65fa051b141db22732b11d30')\n",
    "}\n",
    "uk_food> db.establishments.find(\n",
    "...   { \"BusinessType\": \"Restaurant/Cafe/Canteen\" },\n",
    "...   { \"BusinessTypeID\": 1, \"BusinessType\": 1, \"_id\": 0 }\n",
    "... )\n"
   ]
  },
  {
   "cell_type": "code",
   "execution_count": null,
   "id": "63bb10f9",
   "metadata": {},
   "outputs": [],
   "source": [
    "# Check that the new restaurant was inserted\n",
    "uk_food> db.establishments.findOne({\"BusinessName\": \"Penang Flavours\"})\n",
    "{\n",
    "  _id: ObjectId('65fa051b141db22732b11d30'),\n",
    "  BusinessName: 'Penang Flavours',\n",
    "  BusinessType: 'Restaurant/Cafe/Canteen',\n",
    "  BusinessTypeID: '1',\n",
    "  AddressLine1: 'Penang Flavours',\n",
    "  AddressLine2: '146A Plumstead Rd',\n",
    "  AddressLine3: 'London',\n",
    "  AddressLine4: '',\n",
    "  PostCode: 'SE18 7DY',\n",
    "  Phone: '',\n",
    "  LocalAuthorityCode: '511',\n",
    "  LocalAuthorityName: 'Greenwich',\n",
    "  LocalAuthorityWebSite: 'http://www.royalgreenwich.gov.uk',\n",
    "  LocalAuthorityEmailAddress: 'health@royalgreenwich.gov.uk',\n",
    "  scores: { Hygiene: '', Structural: '', ConfidenceInManagement: '' },\n",
    "  SchemeType: 'FHRS',\n",
    "  geocode: { longitude: '0.08384000', latitude: '51.49014200' },\n",
    "  RightToReply: '',\n",
    "  Distance: 4623.972328074718,\n",
    "  NewRatingPending: true\n",
    "}\n"
   ]
  },
  {
   "cell_type": "markdown",
   "id": "0ef4395a",
   "metadata": {},
   "source": [
    "2. Find the BusinessTypeID for \"Restaurant/Cafe/Canteen\" and return only the `BusinessTypeID` and `BusinessType` fields."
   ]
  },
  {
   "cell_type": "code",
   "execution_count": null,
   "id": "93c63829",
   "metadata": {},
   "outputs": [],
   "source": [
    "# Find the BusinessTypeID for \"Restaurant/Cafe/Canteen\" and return only the BusinessTypeID and BusinessType fields\n",
    "uk_food> db.establishments.find(\n",
    "...   { \"BusinessType\": \"Restaurant/Cafe/Canteen\" },\n",
    "...   { \"BusinessTypeID\": 1, \"BusinessType\": 1, \"_id\": 0 }\n",
    "... )\n",
    "[\n",
    "  { BusinessType: 'Restaurant/Cafe/Canteen', BusinessTypeID: 1 },\n",
    "  { BusinessType: 'Restaurant/Cafe/Canteen', BusinessTypeID: 1 },\n",
    "  { BusinessType: 'Restaurant/Cafe/Canteen', BusinessTypeID: 1 },\n",
    "  { BusinessType: 'Restaurant/Cafe/Canteen', BusinessTypeID: 1 },\n",
    "  { BusinessType: 'Restaurant/Cafe/Canteen', BusinessTypeID: 1 },\n",
    "  { BusinessType: 'Restaurant/Cafe/Canteen', BusinessTypeID: 1 },\n",
    "  { BusinessType: 'Restaurant/Cafe/Canteen', BusinessTypeID: 1 },\n",
    "  { BusinessType: 'Restaurant/Cafe/Canteen', BusinessTypeID: 1 },\n",
    "  { BusinessType: 'Restaurant/Cafe/Canteen', BusinessTypeID: 1 },\n",
    "  { BusinessType: 'Restaurant/Cafe/Canteen', BusinessTypeID: 1 },\n",
    "  { BusinessType: 'Restaurant/Cafe/Canteen', BusinessTypeID: 1 },\n",
    "  { BusinessType: 'Restaurant/Cafe/Canteen', BusinessTypeID: 1 },\n",
    "  { BusinessType: 'Restaurant/Cafe/Canteen', BusinessTypeID: 1 },\n",
    "  { BusinessType: 'Restaurant/Cafe/Canteen', BusinessTypeID: 1 },\n",
    "  { BusinessType: 'Restaurant/Cafe/Canteen', BusinessTypeID: 1 },\n",
    "  { BusinessType: 'Restaurant/Cafe/Canteen', BusinessTypeID: 1 },\n",
    "  { BusinessType: 'Restaurant/Cafe/Canteen', BusinessTypeID: 1 },\n",
    "  { BusinessType: 'Restaurant/Cafe/Canteen', BusinessTypeID: 1 },\n",
    "  { BusinessType: 'Restaurant/Cafe/Canteen', BusinessTypeID: 1 },\n",
    "  { BusinessType: 'Restaurant/Cafe/Canteen', BusinessTypeID: 1 }\n",
    "]\n"
   ]
  },
  {
   "cell_type": "markdown",
   "id": "4e570caf",
   "metadata": {},
   "source": [
    "3. Update the new restaurant with the `BusinessTypeID` you found."
   ]
  },
  {
   "cell_type": "code",
   "execution_count": null,
   "id": "7f599f3d",
   "metadata": {},
   "outputs": [],
   "source": [
    "# Update the new restaurant with the correct BusinessTypeID\n",
    "uk_food> db.establishments.updateOne(\n",
    "...   { \"BusinessName\": \"Penang Flavours\" },\n",
    "...   { \"$set\": { \"BusinessTypeID\": \"1\" } }\n",
    "... )\n"
   ]
  },
  {
   "cell_type": "code",
   "execution_count": null,
   "id": "a6ad16f7",
   "metadata": {},
   "outputs": [],
   "source": [
    "# Confirm that the new restaurant was updated\n",
    "uk_food> db.establishments.findOne({\"BusinessName\": \"Penang Flavours\"})\n",
    "{\n",
    "  _id: ObjectId('65fa051b141db22732b11d30'),\n",
    "  BusinessName: 'Penang Flavours',\n",
    "  BusinessType: 'Restaurant/Cafe/Canteen',\n",
    "  BusinessTypeID: '1',\n",
    "  AddressLine1: 'Penang Flavours',\n",
    "  AddressLine2: '146A Plumstead Rd',\n",
    "  AddressLine3: 'London',\n",
    "  AddressLine4: '',\n",
    "  PostCode: 'SE18 7DY',\n",
    "  Phone: '',\n",
    "  LocalAuthorityCode: '511',\n",
    "  LocalAuthorityName: 'Greenwich',\n",
    "  LocalAuthorityWebSite: 'http://www.royalgreenwich.gov.uk',\n",
    "  LocalAuthorityEmailAddress: 'health@royalgreenwich.gov.uk',\n",
    "  scores: { Hygiene: '', Structural: '', ConfidenceInManagement: '' },\n",
    "  SchemeType: 'FHRS',\n",
    "  geocode: { longitude: '0.08384000', latitude: '51.49014200' },\n",
    "  RightToReply: '',\n",
    "  Distance: 4623.972328074718,\n",
    "  NewRatingPending: true\n",
    "}\n"
   ]
  },
  {
   "cell_type": "markdown",
   "id": "67281254",
   "metadata": {},
   "source": [
    "4. The magazine is not interested in any establishments in Dover, so check how many documents contain the Dover Local Authority. Then, remove any establishments within the Dover Local Authority from the database, and check the number of documents to ensure they were deleted."
   ]
  },
  {
   "cell_type": "code",
   "execution_count": null,
   "id": "768474a6",
   "metadata": {},
   "outputs": [],
   "source": [
    "# Find how many documents have LocalAuthorityName as \"Dover\"\n",
    "uk_food> db.establishments.countDocuments({\"LocalAuthorityName\": \"Dover\"})\n",
    "994"
   ]
  },
  {
   "cell_type": "code",
   "execution_count": null,
   "id": "a11d5f1b",
   "metadata": {},
   "outputs": [],
   "source": [
    "# Delete all documents where LocalAuthorityName is \"Dover\"\n",
    "uk_food> db.establishments.deleteMany({\"LocalAuthorityName\": \"Dover\"})\n",
    "{ acknowledged: true, deletedCount: 994 }"
   ]
  },
  {
   "cell_type": "code",
   "execution_count": null,
   "id": "2a51aba0",
   "metadata": {},
   "outputs": [],
   "source": [
    "# Check if any remaining documents include Dover\n",
    "uk_food> db.establishments.countDocuments({\"LocalAuthorityName\": \"Dover\"})\n",
    "0"
   ]
  },
  {
   "cell_type": "code",
   "execution_count": null,
   "id": "8c356f7b",
   "metadata": {},
   "outputs": [],
   "source": [
    "# Check that other documents remain with 'find_one'\n",
    "db.establishments.findOne()\n"
   ]
  },
  {
   "cell_type": "markdown",
   "id": "e9f1662d",
   "metadata": {},
   "source": [
    "5. Some of the number values are stored as strings, when they should be stored as numbers."
   ]
  },
  {
   "cell_type": "markdown",
   "id": "c46df2df",
   "metadata": {},
   "source": [
    "Use `update_many` to convert `latitude` and `longitude` to decimal numbers."
   ]
  },
  {
   "cell_type": "code",
   "execution_count": null,
   "id": "fd4112ce",
   "metadata": {},
   "outputs": [],
   "source": [
    "# Change the data type from String to Decimal for longitude and latitude\n",
    "// Update latitude and longitude fields to decimal numbers\n",
    "db.establishments.updateMany(\n",
    "    { \n",
    "        $and: [\n",
    "            { \"geocode.longitude\": { $type: \"string\" } },\n",
    "            { \"geocode.latitude\": { $type: \"string\" } }\n",
    "        ]\n",
    "    },\n",
    "    {\n",
    "        $set: {\n",
    "            \"geocode.longitude\": { $toDouble: \"$geocode.longitude\" },\n",
    "            \"geocode.latitude\": { $toDouble: \"$geocode.latitude\" }\n",
    "        }\n",
    "    }\n",
    ")\n"
   ]
  },
  {
   "cell_type": "markdown",
   "id": "142e319c",
   "metadata": {},
   "source": [
    "Use `update_many` to convert `RatingValue` to integer numbers."
   ]
  },
  {
   "cell_type": "code",
   "execution_count": null,
   "id": "04430a5b",
   "metadata": {},
   "outputs": [],
   "source": [
    "# Set non 1-5 Rating Values to Null\n",
    "non_ratings = [\"AwaitingInspection\", \"Awaiting Inspection\", \"AwaitingPublication\", \"Pass\", \"Exempt\"]\n",
    "establishments.update_many({\"RatingValue\": {\"$in\": non_ratings}}, [ {'$set':{ \"RatingValue\" : None}} ])\n",
    "uk_food> var nonRatings = [\"AwaitingInspection\", \"Awaiting Inspection\", \"AwaitingPublication\", \"Pass\", \"Exempt\"];\n",
    "\n",
    "uk_food> db.establishments.updateMany(\n",
    "...     { \"RatingValue\": { $in: nonRatings } }, \n",
    "...     { $set: { \"RatingValue\": null } }\n",
    "... );\n",
    "{\n",
    "  acknowledged: true,\n",
    "  insertedId: null,\n",
    "  matchedCount: 4091,\n",
    "  modifiedCount: 4091,\n",
    "  upsertedCount: 0\n",
    "}\n"
   ]
  },
  {
   "cell_type": "code",
   "execution_count": null,
   "id": "92524ccc",
   "metadata": {},
   "outputs": [],
   "source": [
    "# Change the data type from String to Integer for RatingValue\n",
    "uk_food> db.establishments.updateMany(\n",
    "...     { \"RatingValue\": { $exists: true, $type: \"string\" } }, \n",
    "...     [\n",
    "...         {\n",
    "...             $set: {\n",
    "...                 \"RatingValue\": { $toInt: \"$RatingValue\" } \n",
    "...             }\n",
    "...         }\n",
    "...     ]\n",
    "... );\n",
    "{\n",
    "  acknowledged: true,\n",
    "  insertedId: null,\n",
    "  matchedCount: 34694,\n",
    "  modifiedCount: 34694,\n",
    "  upsertedCount: 0\n",
    "}\n"
   ]
  },
  {
   "cell_type": "code",
   "execution_count": null,
   "id": "0deacaf9",
   "metadata": {},
   "outputs": [],
   "source": [
    "# Check that the coordinates and rating value are now numbers\n",
    "uk_food> db.establishments.findOne()\n",
    "{\n",
    "  _id: ObjectId('65f9ee00ed04031dc9fbb012'),\n",
    "  FHRSID: 647177,\n",
    "  ChangesByServerID: 0,\n",
    "  LocalAuthorityBusinessID: 'PI/000041489',\n",
    "  BusinessName: 'Wear Bay Bowls Club',\n",
    "  BusinessType: 'Pub/bar/nightclub',\n",
    "  BusinessTypeID: 7843,\n",
    "  AddressLine1: 'Wear Bay Road',\n",
    "  AddressLine2: 'Folkestone',\n",
    "  AddressLine3: 'Kent',\n",
    "  AddressLine4: '',\n",
    "  PostCode: 'CT19 6PY',\n",
    "  Phone: '',\n",
    "  RatingValue: 4,\n",
    "  RatingKey: 'fhrs_4_en-gb',\n",
    "  RatingDate: '2014-03-31T00:00:00',\n",
    "  LocalAuthorityCode: '188',\n",
    "  LocalAuthorityName: 'Folkestone and Hythe',\n",
    "  LocalAuthorityWebSite: 'http://www.folkestone-hythe.gov.uk',\n",
    "  LocalAuthorityEmailAddress: 'foodteam@folkestone-hythe.gov.uk',\n",
    "  scores: { Hygiene: 5, Structural: 5, ConfidenceInManagement: 10 }"
   ]
  }
 ],
 "metadata": {
  "kernelspec": {
   "display_name": "Python 3 (ipykernel)",
   "language": "python",
   "name": "python3"
  },
  "language_info": {
   "codemirror_mode": {
    "name": "ipython",
    "version": 3
   },
   "file_extension": ".py",
   "mimetype": "text/x-python",
   "name": "python",
   "nbconvert_exporter": "python",
   "pygments_lexer": "ipython3",
   "version": "3.10.13"
  }
 },
 "nbformat": 4,
 "nbformat_minor": 5
}
